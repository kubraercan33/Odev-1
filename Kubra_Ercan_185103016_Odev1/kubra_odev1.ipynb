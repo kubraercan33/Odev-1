{
 "cells": [
  {
   "cell_type": "markdown",
   "metadata": {},
   "source": [
    "# GÜVERCİN YUVASI PRENSİBİ"
   ]
  },
  {
   "cell_type": "markdown",
   "metadata": {},
   "source": [
    "<p style='color:blue;'>Bilgisayar bilimleri de dahil olmak üzere pek çok matematik temelli bilim ve mühendislik alanında kullanılan oldukça basit bir umdedir.\n",
    "İsmini güvercin yuvalarından alan bu kaideye göre yuva sayısından fazla güvercin varsa ve bütün güvercinler bir yuvaya girecekse,en az\n",
    "bir yuvaya birden fazla güvercin girmek zorundadır.</p>"
   ]
  },
  {
   "cell_type": "markdown",
   "metadata": {},
   "source": [
    "<p style='color:blue;'>Bu durumu sembollerle göstermemiz gerekirse n tane yuva ve m tane güvercin için:\n",
    "m > n durumunda en az bir yuvada birden fazla güvercin bulunmalıdır.</p>"
   ]
  },
  {
   "cell_type": "markdown",
   "metadata": {},
   "source": [
    "### ÖRNEK: "
   ]
  },
  {
   "cell_type": "markdown",
   "metadata": {},
   "source": [
    "İskambil kartlarında 4 tip kart bulunur. Bunlar: Kupa, Karo, Sinek ve Maça'dır.\n",
    "10 adet iskabil kartından kaç tanesi aynı tipte karttır?"
   ]
  },
  {
   "cell_type": "markdown",
   "metadata": {},
   "source": [
    "### <span style='color:red;'>ÇÖZÜM:</span>"
   ]
  },
  {
   "cell_type": "markdown",
   "metadata": {},
   "source": [
    "<p>10 adet iskambil kartı 4 ayrı gruba ayrılacaktır. \n",
    "Güvercin Yuvası Prensibine uyarlandığında güvercin sayısı iskambil sayısı ile; kart tipi sayısı ise yuva sayısı ile özdeştirilmiştir. \n",
    "İskambil kart sayısı, kart tipi sayısına (yani 4'e) bölünür. Sonra bulunan değer yukarı yuvarlanır.\n",
    "\n",
    "<i style='color:blue;'>math.ceil(Güvercin Sayısı / Yuva Sayısı) = math.ceil(İskambil Kartı Sayısı / İskambil Kart Tipi Sayısı)\n",
    "\n",
    "math.ceil(10/4)=math.ceil(2.5)=3</i>\n",
    "</p>"
   ]
  },
  {
   "cell_type": "markdown",
   "metadata": {},
   "source": [
    "## Kütüphaneler"
   ]
  },
  {
   "cell_type": "code",
   "execution_count": 1,
   "metadata": {},
   "outputs": [],
   "source": [
    "import math"
   ]
  },
  {
   "cell_type": "markdown",
   "metadata": {},
   "source": [
    "## Fonksiyonlar"
   ]
  },
  {
   "cell_type": "code",
   "execution_count": null,
   "metadata": {},
   "outputs": [],
   "source": [
    "def Sonuc(Iskambil_Kart_Sayisi): # Güvercin Yuvası Prensibi kuralı baz alındığında (güvercin/yuva sayısı)=(İskambil Kart Sayısı/Kart Tipi Sayısı) oranı yukarı yuvarlanmalıdır.\n",
    "\t\n",
    "\tsonuc = (math.ceil(int(Iskambil_Kart_Sayisi)/4.0))\n",
    " \n",
    "\treturn sonuc"
   ]
  },
  {
   "cell_type": "code",
   "execution_count": null,
   "metadata": {},
   "outputs": [],
   "source": [
    "def SayiKontrol(GirilenDeger): #Girilen değerin kontrolü sağlanır. Negatif sayı yada harf girildiğinde uyarı çıkartılır. \n",
    "\tdeger = str(GirilenDeger)\n",
    "\tif not deger.isdigit(): #karakter kontrolü\n",
    "\t\treturn False\n",
    "\telif(int(deger) < 1) or (int(deger) > 52):  # 1-52 aralık kontrolü\n",
    "\t\treturn False\n",
    "\telse:\n",
    "\t\treturn True"
   ]
  },
  {
   "cell_type": "markdown",
   "metadata": {},
   "source": [
    "## İşlemin Yapılışı"
   ]
  },
  {
   "cell_type": "code",
   "execution_count": null,
   "metadata": {},
   "outputs": [
    {
     "name": "stdout",
     "output_type": "stream",
     "text": [
      "Lütfen 1 ile 52 aralığında bir sayi giriniz..\n"
     ]
    }
   ],
   "source": [
    "\twhile True:\n",
    "\t\tprint(\"Lütfen 1 ile 52 aralığında bir sayi giriniz..\")\n",
    "\t\tIskambil_Kart_Sayisi = input(\"Kac adet iskambil karti ile islem yapmak istersiniz?: \")\n",
    "\t\tif SayiKontrol(Iskambil_Kart_Sayisi) == True:\n",
    "\t\t\tprint(\"Aynı Tipte Kart Sayısı: En az %d adettir.\" % Sonuc(Iskambil_Kart_Sayisi))\n",
    "\t\tprint(\"\\n\")"
   ]
  },
  {
   "cell_type": "code",
   "execution_count": null,
   "metadata": {},
   "outputs": [],
   "source": []
  }
 ],
 "metadata": {
  "kernelspec": {
   "display_name": "Python 3",
   "language": "python",
   "name": "python3"
  },
  "language_info": {
   "codemirror_mode": {
    "name": "ipython",
    "version": 3
   },
   "file_extension": ".py",
   "mimetype": "text/x-python",
   "name": "python",
   "nbconvert_exporter": "python",
   "pygments_lexer": "ipython3",
   "version": "3.6.5"
  }
 },
 "nbformat": 4,
 "nbformat_minor": 2
}
